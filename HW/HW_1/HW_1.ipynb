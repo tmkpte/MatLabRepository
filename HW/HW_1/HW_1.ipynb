{
 "cells": [
  {
   "cell_type": "markdown",
   "metadata": {},
   "source": [
    "# Методика анализа надежности систем и их элементов по данным эксплуатации\n",
    "## На примере ТУ-154М"
   ]
  },
  {
   "cell_type": "markdown",
   "metadata": {},
   "source": [
    "Связь между показателями надежности восстанавливаемых и невоссатнавливаемых систем\n",
    "$$ \\omega(t) = f(t) + \\int_0^t \\omega(\\tau)f(t - \\tau)d\\tau$$"
   ]
  },
  {
   "cell_type": "markdown",
   "metadata": {},
   "source": [
    "где $\\omega(t)$ - частота отказов, \n",
    "а $f(t)$ - закон распределения отказов."
   ]
  },
  {
   "cell_type": "markdown",
   "metadata": {},
   "source": [
    "## Алгоритм анализа надежности техники по данным эксплуатации, основанный на решении интегрального уравнения"
   ]
  },
  {
   "cell_type": "markdown",
   "metadata": {},
   "source": [
    "1. Определить частоту отказов по данным эксплатации в виде  $$ \\omega(t) = \\frac{n(\\Delta t)}{\\Delta tN}$$\n",
    "\n",
    "2. Записать функцию $\\omega(t)$ в виде преобразования Лапласа $\\omega(s)$.\n",
    "https://www.mathworks.com/help/symbolic/laplace.html\n",
    "\n",
    "3. Определить преобразование Лапласа функции плотности распределения $f(s)$ ,  которая выражается из \n",
    "\n",
    "$$ \\omega(s) = f(s) + \\omega(s)f(s) $$\n",
    "\n",
    "$$f(s) = \\frac{\\omega(s)}{1+\\omega(s)}$$\n",
    "\n",
    "4.Находится обратное преобразование Лапласа $f(t)$ и определяем ВБР и интенсивность отказов $\\lambda$."
   ]
  },
  {
   "cell_type": "markdown",
   "metadata": {},
   "source": [
    "# Пример"
   ]
  },
  {
   "cell_type": "code",
   "execution_count": null,
   "metadata": {},
   "outputs": [],
   "source": [
    "N = 8;\n",
    "\n",
    "\n"
   ]
  },
  {
   "cell_type": "code",
   "execution_count": null,
   "metadata": {},
   "outputs": [],
   "source": [
    "NoF = [0 260 431 421 306 351  369  546 363];"
   ]
  },
  {
   "cell_type": "code",
   "execution_count": null,
   "metadata": {},
   "outputs": [],
   "source": [
    "Time_in_Hours =   [1 2351 4066 4596 3381 2630 3665  4585 3158];"
   ]
  },
  {
   "cell_type": "markdown",
   "metadata": {},
   "source": [
    "$$ \\omega(t) = \\frac{n(\\Delta t)}{\\Delta tN}$$\n",
    "\n"
   ]
  },
  {
   "cell_type": "code",
   "execution_count": null,
   "metadata": {},
   "outputs": [],
   "source": [
    "w_t = NoF./(Time_in_Hours*N);\n",
    "Time = zeros(1,9);\n",
    "sum_t = 0;\n",
    "\n",
    "for a = 2:length(Time)\n",
    "    Time(a) = Time_in_Hours(a)/2 + sum_t;\n",
    "    sum_t = sum_t + Time_in_Hours(a);\n",
    "end"
   ]
  },
  {
   "cell_type": "markdown",
   "metadata": {},
   "source": [
    "## Polyfit"
   ]
  },
  {
   "cell_type": "markdown",
   "metadata": {},
   "source": [
    "https://www.mathworks.com/help/matlab/ref/polyfit.html"
   ]
  },
  {
   "cell_type": "code",
   "execution_count": null,
   "metadata": {},
   "outputs": [],
   "source": [
    "Poly = polyfit(Time, w_t,2);\n",
    "Poly_3 = polyfit(Time, w_t,3);\n",
    "\n",
    "\n",
    "f = polyval(Poly, Time);\n",
    "f_3 = polyval(Poly_3, Time);\n",
    "\n",
    "plot(Time,w_t,Time, f,Time,f_3, 'LineWidth', 2);\n",
    "title('Polyfit ax^n +bx^{n-1}+...+k');\n",
    "grid on\n",
    "xlabel('Time, hour');\n",
    "ylabel('W(t)');\n",
    "legend('Data','Poly, n = 2','n = 3');"
   ]
  },
  {
   "cell_type": "markdown",
   "metadata": {},
   "source": [
    "<img src=\"Fig1_DZ.png\">"
   ]
  },
  {
   "cell_type": "markdown",
   "metadata": {},
   "source": [
    "## Преобразование Лапласа (прямое)"
   ]
  },
  {
   "cell_type": "code",
   "execution_count": null,
   "metadata": {},
   "outputs": [],
   "source": [
    "%syms t s\n",
    "%disp (laplace(1,t,s));\n",
    "%disp(laplace(t,t,s));\n",
    "%disp(laplace(t^2,t,s));"
   ]
  },
  {
   "cell_type": "markdown",
   "metadata": {},
   "source": [
    "### Но я все делал в MAPLE :)"
   ]
  },
  {
   "cell_type": "markdown",
   "metadata": {},
   "source": [
    "<img src=\"laplace-1.png\">"
   ]
  },
  {
   "cell_type": "markdown",
   "metadata": {},
   "source": [
    "## Ввести новые переменные и построить график (например ВБР)"
   ]
  },
  {
   "cell_type": "code",
   "execution_count": null,
   "metadata": {},
   "outputs": [],
   "source": [
    "t = [0:1:28000];\n",
    "\n",
    "inverse_laplace_t = 0.6881130206*10^(-2)*exp(-0.6758063955*10^(-2)*t)-0.3055157470*10^(-5)*exp(-0.1582409599*10^(-3)*t)-4.197321955*10^(-8)*exp(0.3827183773*10^(-4)*t);\n",
    "\n",
    "\n",
    "lambda_t = (0.6881130206*10^(-2)*exp(-0.6758063955*10^(-2)*t)-0.3055157470*10^(-5)*exp(-0.1582409599*10^(-3)*t)-4.197321955*10^(-8)*exp(0.3827183773*10^(-4)*t))/(3.*10^(-10)+1.018210282*exp(-0.6758063955*10^(-2)*t)-0.1930699531*10^(-1)*exp(-0.1582409599*10^(-3)*t)+0.1096712937*10^(-2)*exp(0.3827183773*10^(-4)*t));\n",
    "\n",
    "\n",
    "P_t = 3*10^(-10)+1.018210282*exp(-0.6758063955*10^(-2)*t)-0.01930699531*exp(-0.1582409599*10^(-3)*t)+0.1096712937*10^(-2)*exp(0.3827183773*10^(-4)*t);\n"
   ]
  },
  {
   "cell_type": "markdown",
   "metadata": {},
   "source": [
    "<img src=\"VBR.png\">"
   ]
  },
  {
   "cell_type": "code",
   "execution_count": null,
   "metadata": {},
   "outputs": [],
   "source": []
  }
 ],
 "metadata": {
  "kernelspec": {
   "display_name": "Python 3",
   "language": "python",
   "name": "python3"
  },
  "language_info": {
   "codemirror_mode": {
    "name": "ipython",
    "version": 3
   },
   "file_extension": ".py",
   "mimetype": "text/x-python",
   "name": "python",
   "nbconvert_exporter": "python",
   "pygments_lexer": "ipython3",
   "version": "3.6.3"
  }
 },
 "nbformat": 4,
 "nbformat_minor": 2
}
